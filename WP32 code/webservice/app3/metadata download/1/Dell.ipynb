{
 "cells": [
  {
   "cell_type": "code",
   "execution_count": null,
   "metadata": {},
   "outputs": [],
   "source": [
    "pip install urllib3"
   ]
  },
  {
   "cell_type": "code",
   "execution_count": null,
   "metadata": {},
   "outputs": [],
   "source": [
    "pip install python-certifi-win32"
   ]
  },
  {
   "cell_type": "code",
   "execution_count": 16,
   "metadata": {},
   "outputs": [],
   "source": [
    "from flask import Flask\n",
    "from flask import jsonify,request\n",
    "import earthpy as et\n",
    "import earthpy.spatial as es\n",
    "import earthpy.plot as ep\n",
    "import numpy as np\n",
    "import rasterio as rio\n",
    "from glob import glob\n",
    "import matplotlib.pyplot as plt\n",
    "import requests\n",
    "import urllib3\n",
    "import json"
   ]
  },
  {
   "cell_type": "code",
   "execution_count": 17,
   "metadata": {},
   "outputs": [],
   "source": [
    "def metadata(metadataid):\n",
    "    urllib3.disable_warnings()\n",
    "    from flask import jsonify\n",
    "    url = \"https://10.11.2.101:31010/cameo/metadata/\"+metadataid\n",
    "    data={\n",
    "    \"username\": \"ucd-wp3-user\",\n",
    "    \"password\": \"U(dWp3u$3r24\"\n",
    "    }\n",
    "    response = requests.get(url=url,verify=False, json=data)\n",
    "    if response.status_code ==200:\n",
    "        print(response.json())\n",
    "    else:\n",
    "        print(response.status_code)\n",
    "    \n",
    "    jsonResponse = json.dumps(response.json())\n",
    "    return jsonResponse\n",
    "\n",
    "def data(dataid):\n",
    "    urllib3.disable_warnings()\n",
    "    from flask import jsonify\n",
    "    url = \"https://10.11.2.101:31010/cameo/data/\"+dataid\n",
    "    data={\n",
    "    \"username\": \"ucd-wp3-user\",\n",
    "    \"password\": \"U(dWp3u$3r24\"\n",
    "    }\n",
    "    response = requests.get(url=url,verify=False, json=data)\n",
    "    if response.status_code ==200:\n",
    "        print(response.json())\n",
    "    else:\n",
    "        print(response.status_code)\n",
    "    \n",
    "    jsonResponse = json.dumps(response.json())\n",
    "    return jsonResponse\n",
    "\n",
    "def search(data):\n",
    "    urllib3.disable_warnings()\n",
    "    from flask import jsonify\n",
    "    url = \"https://10.11.2.101:31010/cameo/search\"\n",
    "    \n",
    "    response = requests.get(url=url,verify=False, json=data)\n",
    "    if response.status_code ==200:\n",
    "        print(response.json())\n",
    "    else:\n",
    "        print(response.status_code)\n",
    "    \n",
    "    jsonResponse = json.dumps(response.json())\n",
    "    return jsonResponse\n"
   ]
  },
  {
   "cell_type": "code",
   "execution_count": 18,
   "metadata": {},
   "outputs": [
    {
     "name": "stdout",
     "output_type": "stream",
     "text": [
      "{'box': 'POLYGON ((-6.066376 52.314038, -6.129791 51.328067, -4.557892 51.278925, -4.460022 52.263137, -6.066376 52.314038))', 'cloud_cover': '0.223530104280499', 'constellation': 'SENTINEL-2', 'created': '2023-01-02T11:33:59.024Z', 'geometry': {'coordinates': [[[-7.515198, 52.837653], [-7.535034, 52.253457], [-5.928314, 52.222566], [-5.858215, 53.208201], [-7.342163, 53.237104], [-7.353973, 53.210434], [-7.417541, 53.064935], [-7.480286, 52.91931], [-7.515198, 52.837653]]], 'type': 'Polygon'}, 'id': 'urn:eo:MetadataId:ee9e1f49-a4d8-4cf9-8f58-4bcea6daf608', 'instruments': 'MSI', 'metadata_id': 'ee9e1f49-a4d8-4cf9-8f58-4bcea6daf608', 'processing_level': 'LEVEL1C', 'published': '2023-01-02T14:32:15.289Z', 'snow_cover': '0', 'thumbnail': 'https://catalogue.dataspace.copernicus.eu/get-object?path=/Sentinel-2/MSI/L1C/2023/01/02/S2B_MSIL1C_20230102T113359_N0509_R080_T29UPU_20230102T121121.SAFE/S2B_MSIL1C_20230102T113359_N0509_R080_T29UPU_20230102T121121-ql.jpg'}\n"
     ]
    },
    {
     "data": {
      "text/plain": [
       "'{\"box\": \"POLYGON ((-6.066376 52.314038, -6.129791 51.328067, -4.557892 51.278925, -4.460022 52.263137, -6.066376 52.314038))\", \"cloud_cover\": \"0.223530104280499\", \"constellation\": \"SENTINEL-2\", \"created\": \"2023-01-02T11:33:59.024Z\", \"geometry\": {\"coordinates\": [[[-7.515198, 52.837653], [-7.535034, 52.253457], [-5.928314, 52.222566], [-5.858215, 53.208201], [-7.342163, 53.237104], [-7.353973, 53.210434], [-7.417541, 53.064935], [-7.480286, 52.91931], [-7.515198, 52.837653]]], \"type\": \"Polygon\"}, \"id\": \"urn:eo:MetadataId:ee9e1f49-a4d8-4cf9-8f58-4bcea6daf608\", \"instruments\": \"MSI\", \"metadata_id\": \"ee9e1f49-a4d8-4cf9-8f58-4bcea6daf608\", \"processing_level\": \"LEVEL1C\", \"published\": \"2023-01-02T14:32:15.289Z\", \"snow_cover\": \"0\", \"thumbnail\": \"https://catalogue.dataspace.copernicus.eu/get-object?path=/Sentinel-2/MSI/L1C/2023/01/02/S2B_MSIL1C_20230102T113359_N0509_R080_T29UPU_20230102T121121.SAFE/S2B_MSIL1C_20230102T113359_N0509_R080_T29UPU_20230102T121121-ql.jpg\"}'"
      ]
     },
     "execution_count": 18,
     "metadata": {},
     "output_type": "execute_result"
    }
   ],
   "source": [
    "\n",
    "params = {\n",
    "    \"constellation\":\"SENTINEL-2\",\n",
    "    \"start_datetime\":\"2023-01-02T00:00:00Z\",\n",
    "    \"end_datetime\": \"2023-02-01T23:59:00Z\",\n",
    "    \"username\": \"ucd-wp3-user\",\n",
    "    \"password\": \"U(dWp3u$3r24\",\n",
    "    \"online_search\": \"False\",\n",
    "    \"limit\": 1,\n",
    "    \"eo:cloud_cover\": 10,\n",
    "    \"processing:level\": \"LEVEL1\",\n",
    "    \"geometry\": {\n",
    "        \"coordinates\": [\n",
    "            [\n",
    "                [\n",
    "                    -6.066376,\n",
    "                    52.314038\n",
    "                ],\n",
    "                [\n",
    "                    -6.129791,\n",
    "                    51.328067\n",
    "                ],\n",
    "                [\n",
    "                    -4.557892,\n",
    "                    51.278925\n",
    "                ],\n",
    "                [\n",
    "                    -4.460022,\n",
    "                    52.263137\n",
    "                ],\n",
    "                [\n",
    "                    -6.066376,\n",
    "                    52.314038\n",
    "                ]\n",
    "            ]\n",
    "        ],\n",
    "        \"type\": \"Polygon\"\n",
    "    }\n",
    "}\n",
    "\n",
    "search(params)"
   ]
  },
  {
   "cell_type": "code",
   "execution_count": 36,
   "metadata": {},
   "outputs": [
    {
     "name": "stdout",
     "output_type": "stream",
     "text": [
      "{'cloud_cover': '41.0', 'constellation': 'LANDSAT-8', 'created': '2023-05-13T11:22:11.341Z', 'data_id': 'b6c8cf6e-2da5-4b3e-9dab-6ac4e83273bb', 'geometry': {'coordinates': [[[-8.39625, 54.18434], [-8.42538, 52.054], [-5.0178, 51.98805], [-4.8166, 54.11312], [-8.39625, 54.18434]]], 'type': 'Polygon'}, 'instore': 'True', 'instruments': 'OLI_TIRS', 'metadata_expiration_date': '2025-10-16 08:14:26.441561', 'metadata_id': '2cb98887-8afe-4275-8eca-255957bbbf12', 'metadata_ingestion_date': '2023-10-17 08:14:26.441557', 'processing_level': 'LEVEL2SP', 'product_id': '772fecfd-3782-48b4-a578-bc7b069eb82b', 'product_type': 'L2SP', 'published': '2023-05-20T10:52:29.157Z', 'quicklook': 'None', 'resolution': '100.0', 'sensor_mode': 'DEFAULT', 'size': '916971520', 'snow_cover': '0', 'status': 'ONLINE', 'sun_azimuth': '155.38225', 'sun_elevation': '53.322132', 'thumbnail': 'None', 'title': 'LC08_L2SP_206023_20230513_20230518_02_T1'}\n"
     ]
    }
   ],
   "source": [
    "\n",
    "#json1= metadata(\"3c02bfc1-133c-4275-af78-03840633a733\")\n",
    "#json1= metadata(\"6585b136-27f1-4ff0-9764-fbd45cf8e3e7\") #sentinel data\n",
    "json1= metadata(\"2cb98887-8afe-4275-8eca-255957bbbf12\") #landsat\n",
    "\n",
    "\n"
   ]
  },
  {
   "cell_type": "code",
   "execution_count": 37,
   "metadata": {},
   "outputs": [
    {
     "name": "stdout",
     "output_type": "stream",
     "text": [
      "b6c8cf6e-2da5-4b3e-9dab-6ac4e83273bb\n"
     ]
    }
   ],
   "source": [
    "\n",
    "strj=str(json1)\n",
    "#print(strj)\n",
    "json_object = json.loads(strj)\n",
    "print(json_object[\"data_id\"])\n",
    "data_id=json_object[\"data_id\"]"
   ]
  },
  {
   "cell_type": "code",
   "execution_count": 38,
   "metadata": {},
   "outputs": [
    {
     "name": "stdout",
     "output_type": "stream",
     "text": [
      "{'data_id': 'b6c8cf6e-2da5-4b3e-9dab-6ac4e83273bb', 'data_s3_link': 'http://10.11.1.100:80/repository/LC08_L2SP_206023_20230513_20230518_02_T1', 'instore': 'True', 'metadata_id': 'urn:eo:MetadataId:2cb98887-8afe-4275-8eca-255957bbbf12'}\n"
     ]
    }
   ],
   "source": [
    "\n",
    "#json1= data(\"1e55f150-20fc-45e2-9b32-6df9ba6a92d4\")\n",
    "#json1= data(\"c14c3c05-fa4f-4b93-99eb-0c335d294442\")\n",
    "\n",
    "json1= data(data_id)"
   ]
  },
  {
   "cell_type": "code",
   "execution_count": 39,
   "metadata": {},
   "outputs": [
    {
     "name": "stdout",
     "output_type": "stream",
     "text": [
      "\n"
     ]
    },
    {
     "data": {
      "text/plain": [
       "'LC08_L2SP_206023_20230513_20230518_02_T1'"
      ]
     },
     "execution_count": 39,
     "metadata": {},
     "output_type": "execute_result"
    }
   ],
   "source": [
    "json_object1 = json.loads(json1)\n",
    "\n",
    "strs=json_object1[\"data_s3_link\"]\n",
    "print()\n",
    "res = strs.split('y/')[1]\n",
    "res"
   ]
  },
  {
   "cell_type": "markdown",
   "metadata": {},
   "source": [
    "**download method 1**"
   ]
  },
  {
   "cell_type": "code",
   "execution_count": 40,
   "metadata": {},
   "outputs": [],
   "source": [
    "import boto3\n",
    "s3 = boto3.client('s3',\n",
    "                  endpoint_url=\"http://10.11.1.100:80\",\n",
    "                  use_ssl=False,\n",
    "                  aws_access_key_id='ucd-wp3-usr',\n",
    "                  aws_secret_access_key='U53r-uCdwp3',\n",
    "                  region_name='us-east-1')\n"
   ]
  },
  {
   "cell_type": "code",
   "execution_count": 30,
   "metadata": {},
   "outputs": [],
   "source": [
    "s3.download_file('dell','test.txt','test.txt')"
   ]
  },
  {
   "cell_type": "code",
   "execution_count": 41,
   "metadata": {},
   "outputs": [
    {
     "name": "stdout",
     "output_type": "stream",
     "text": [
      "LC08_L2SP_206023_20230513_20230518_02_T1.zip\n"
     ]
    }
   ],
   "source": [
    "files=res+'.zip'\n",
    "print (files)\n",
    "s3.download_file('repository',files,files)"
   ]
  },
  {
   "cell_type": "markdown",
   "metadata": {},
   "source": [
    "**unzip**"
   ]
  },
  {
   "cell_type": "code",
   "execution_count": 42,
   "metadata": {},
   "outputs": [
    {
     "name": "stdout",
     "output_type": "stream",
     "text": [
      "c:\\Users\\punit\\Desktop\\test\\raster santenal\\Dell search and download\\LC08_L2SP_206023_20230513_20230518_02_T1.zip\n"
     ]
    }
   ],
   "source": [
    "def unzip(id):\n",
    "    import  zipfile\n",
    "    import os\n",
    "    #files=\"S2A_MSIL1C_20230520T114351_N0509_R123_T29ULS_20230520T151921.zip\"\n",
    "    zip_ref = zipfile.ZipFile(id, 'r')\n",
    "    zip_ref.extractall(os.path.dirname(id))\n",
    "    zip_ref.close()\n",
    "    print(os.path.abspath(files))\n",
    "\n",
    "unzip(files)"
   ]
  },
  {
   "cell_type": "code",
   "execution_count": 73,
   "metadata": {},
   "outputs": [
    {
     "name": "stdout",
     "output_type": "stream",
     "text": [
      "c:\\Users\\punit\\Desktop\\test\\raster santenal\\Dell search and download\\LC08_L2SP_206023_20230513_20230518_02_T1.zip\n"
     ]
    }
   ],
   "source": [
    "print(os.path.abspath(files))"
   ]
  },
  {
   "cell_type": "code",
   "execution_count": 1,
   "metadata": {},
   "outputs": [],
   "source": [
    "import landsat as sdq"
   ]
  },
  {
   "cell_type": "code",
   "execution_count": 2,
   "metadata": {},
   "outputs": [],
   "source": [
    "res=\"LC08_L2SP_206023_20230513_20230518_02_T1\"\n",
    "#sdq.complete_l(res)\n",
    "#sdq.veg_class_l(res)\n"
   ]
  },
  {
   "cell_type": "code",
   "execution_count": 3,
   "metadata": {},
   "outputs": [
    {
     "name": "stdout",
     "output_type": "stream",
     "text": [
      "(7901, 7801)\n",
      "(7901, 7801)\n",
      "(7901, 7801)\n",
      "(7901, 7801)\n"
     ]
    },
    {
     "name": "stderr",
     "output_type": "stream",
     "text": [
      "c:\\Users\\punit\\.conda\\envs\\streamlit\\lib\\site-packages\\earthpy\\spatial.py:105: RuntimeWarning: invalid value encountered in divide\n",
      "  n_diff = (b1 - b2) / (b1 + b2)\n",
      "c:\\Users\\punit\\.conda\\envs\\streamlit\\lib\\site-packages\\earthpy\\spatial.py:109: Warning: Divide by zero produced infinity values that will be replaced with nan values\n",
      "  warnings.warn(\n"
     ]
    },
    {
     "name": "stdout",
     "output_type": "stream",
     "text": [
      "[2 3 4 --]\n",
      "[2 3 4 --]\n",
      "[ 1787551   859620 38080434 20908096]\n",
      "Concrete Percentage:2.90%\n",
      "Green Percentage: 1.39%\n",
      "Water Percentage: 61.78%\n",
      "(7901, 7801)\n"
     ]
    }
   ],
   "source": [
    "data=sdq.basic_class_l(res)"
   ]
  },
  {
   "cell_type": "code",
   "execution_count": 4,
   "metadata": {},
   "outputs": [
    {
     "data": {
      "text/plain": [
       "{'Concrete_Percentage': 2.9001876688317374,\n",
       " 'Green_Percentage': 1.3946787106388228,\n",
       " 'Water_Percentage': 61.783079257912554}"
      ]
     },
     "execution_count": 4,
     "metadata": {},
     "output_type": "execute_result"
    }
   ],
   "source": [
    "data"
   ]
  },
  {
   "cell_type": "code",
   "execution_count": null,
   "metadata": {},
   "outputs": [],
   "source": []
  }
 ],
 "metadata": {
  "kernelspec": {
   "display_name": "streamlit",
   "language": "python",
   "name": "python3"
  },
  "language_info": {
   "codemirror_mode": {
    "name": "ipython",
    "version": 3
   },
   "file_extension": ".py",
   "mimetype": "text/x-python",
   "name": "python",
   "nbconvert_exporter": "python",
   "pygments_lexer": "ipython3",
   "version": "3.10.11"
  },
  "orig_nbformat": 4
 },
 "nbformat": 4,
 "nbformat_minor": 2
}
