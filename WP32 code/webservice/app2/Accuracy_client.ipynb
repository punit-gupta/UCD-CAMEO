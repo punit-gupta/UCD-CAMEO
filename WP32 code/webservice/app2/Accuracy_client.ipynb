{
 "cells": [
  {
   "cell_type": "code",
   "execution_count": 1,
   "metadata": {},
   "outputs": [],
   "source": [
    "from flask import Flask\n",
    "from flask import jsonify,request\n",
    "import earthpy as et\n",
    "import earthpy.spatial as es\n",
    "import earthpy.plot as ep\n",
    "import numpy as np\n",
    "import rasterio as rio\n",
    "from glob import glob\n",
    "import matplotlib.pyplot as plt"
   ]
  },
  {
   "cell_type": "code",
   "execution_count": 4,
   "metadata": {},
   "outputs": [],
   "source": [
    "import requests\n",
    "from flask import jsonify\n",
    "url = \"http://127.0.0.1:105/wp3/accuracy\"\n",
    "data={\"ID1\":\"IMG_DATA/*B?*.jp2\",\n",
    "       \"ID2\":\"IMG_DATA1/*B?*.jp2\" }\n",
    "response = requests.post(url, json=data)"
   ]
  },
  {
   "cell_type": "code",
   "execution_count": 5,
   "metadata": {},
   "outputs": [
    {
     "data": {
      "text/plain": [
       "{'MSE': '{Band0:2696698.0095302938,Band1:3055807.194148095,Band2:3035764.511383945,Band3:4179888.7933215303,Band4:3668596.700997608,Band5:4228195.076601239,Band6:5648951.098427444,Band7:5683913.100733607,Band8:1166524.9957123233,Band9:18134.66123562961,Band10:3790157.4677747586,Band11:2415606.8433365515}',\n",
       " 'NMSE': '{Band0:0.4749066631529798,Band1:0.5322620512866078,Band2:0.5460748693206885,Band3:0.6204238291150582,Band4:0.5646899676884999,Band5:0.5407672844378303,Band6:0.5839553671381944,Band7:0.6116448687478854,Band8:0.5868956025404706,Band9:0.1298321010980939,Band10:0.5045739682890205,Band11:0.5205616016043498}',\n",
       " 'PSNR': '{Band0:-16.177519537207253,Band1:-16.7204558813289,Band2:-16.691877188149952,Band3:-18.080843665795477,Band4:-17.514196103161282,Band5:-18.130746553117202,Band6:-19.3888745430477,Band7:-19.415670686689488,Band8:-12.538136882058211,Band9:5.545709137097084,Band10:-17.655768928904013,Band11:-15.69945890412421}',\n",
       " 'RMSE': '{Band0:1642.162601428462,Band1:1748.0867238635774,Band2:1742.3445443952655,Band3:2044.4776333629895,Band4:1915.3581129902595,Band5:2056.2575414089642,Band6:2376.752216455776,Band7:2384.095866514937,Band8:1080.0578668350706,Band9:134.66499632654958,Band10:1946.8326758544913,Band11:1554.2222631710536}',\n",
       " 'SSIM': '{}'}"
      ]
     },
     "execution_count": 5,
     "metadata": {},
     "output_type": "execute_result"
    }
   ],
   "source": [
    "jsonResponse = response.json()\n",
    "jsonResponse"
   ]
  },
  {
   "cell_type": "code",
   "execution_count": null,
   "metadata": {},
   "outputs": [],
   "source": []
  }
 ],
 "metadata": {
  "kernelspec": {
   "display_name": "streamlit",
   "language": "python",
   "name": "python3"
  },
  "language_info": {
   "codemirror_mode": {
    "name": "ipython",
    "version": 3
   },
   "file_extension": ".py",
   "mimetype": "text/x-python",
   "name": "python",
   "nbconvert_exporter": "python",
   "pygments_lexer": "ipython3",
   "version": "3.10.11"
  },
  "orig_nbformat": 4
 },
 "nbformat": 4,
 "nbformat_minor": 2
}
