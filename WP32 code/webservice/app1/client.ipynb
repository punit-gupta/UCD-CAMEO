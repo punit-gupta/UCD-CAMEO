{
 "cells": [
  {
   "cell_type": "code",
   "execution_count": 26,
   "metadata": {},
   "outputs": [],
   "source": [
    "import requests\n",
    "from flask import jsonify"
   ]
  },
  {
   "cell_type": "code",
   "execution_count": 49,
   "metadata": {},
   "outputs": [
    {
     "data": {
      "text/plain": [
       "{'age': 0, 'name': 'Vernor Vinge'}"
      ]
     },
     "execution_count": 49,
     "metadata": {},
     "output_type": "execute_result"
    }
   ],
   "source": [
    "url = \"http://192.168.1.61:105/api/v1/resources/books1\"\n",
    "data =  {\"name\": \"Vernor Vinge\", \"age\": 0}\n",
    "response = requests.post(url, json=data)\n",
    "response.json()\n"
   ]
  },
  {
   "cell_type": "code",
   "execution_count": 50,
   "metadata": {},
   "outputs": [
    {
     "data": {
      "text/plain": [
       "[{'author': 'Vernor Vinge',\n",
       "  'first_sentence': 'The coldsleep itself was dreamless.',\n",
       "  'id': 0,\n",
       "  'title': 'A Fire Upon the Deep',\n",
       "  'year_published': '1992'},\n",
       " {'author': 'Ursula K. Le Guin',\n",
       "  'first_sentence': 'With a clamor of bells that set the swallows soaring, the Festival of Summer came to the city Omelas, bright-towered by the sea.',\n",
       "  'id': 1,\n",
       "  'published': '1973',\n",
       "  'title': 'The Ones Who Walk Away From Omelas'},\n",
       " {'author': 'Samuel R. Delany',\n",
       "  'first_sentence': 'to wound the autumnal city.',\n",
       "  'id': 2,\n",
       "  'published': '1975',\n",
       "  'title': 'Dhalgren'}]"
      ]
     },
     "execution_count": 50,
     "metadata": {},
     "output_type": "execute_result"
    }
   ],
   "source": [
    "url = 'http://192.168.1.61:105/api/v1/resources/books/all'\n",
    "response = requests.get(url)\n",
    "response.json()"
   ]
  },
  {
   "cell_type": "code",
   "execution_count": 39,
   "metadata": {},
   "outputs": [
    {
     "data": {
      "text/plain": [
       "<Response [415]>"
      ]
     },
     "execution_count": 39,
     "metadata": {},
     "output_type": "execute_result"
    }
   ],
   "source": [
    "response"
   ]
  },
  {
   "cell_type": "code",
   "execution_count": null,
   "metadata": {},
   "outputs": [],
   "source": []
  },
  {
   "cell_type": "code",
   "execution_count": null,
   "metadata": {},
   "outputs": [],
   "source": []
  }
 ],
 "metadata": {
  "kernelspec": {
   "display_name": "streamlit",
   "language": "python",
   "name": "python3"
  },
  "language_info": {
   "codemirror_mode": {
    "name": "ipython",
    "version": 3
   },
   "file_extension": ".py",
   "mimetype": "text/x-python",
   "name": "python",
   "nbconvert_exporter": "python",
   "pygments_lexer": "ipython3",
   "version": "3.10.11"
  },
  "orig_nbformat": 4
 },
 "nbformat": 4,
 "nbformat_minor": 2
}
