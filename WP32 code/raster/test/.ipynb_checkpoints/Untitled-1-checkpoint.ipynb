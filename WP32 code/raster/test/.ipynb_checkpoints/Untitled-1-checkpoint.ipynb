{
 "cells": [
  {
   "cell_type": "code",
   "execution_count": 2,
   "metadata": {},
   "outputs": [],
   "source": [
    "import arcgis\n",
    "from arcgis.gis import GIS\n",
    "from arcgis.raster.analytics import copy_raster, create_image_collection, list_datastore_content\n",
    "# Log into ArcGIS Online or ArcGIS Enterprise, ensuring that you have the required privileges as mentioned above.\n",
    "gis = GIS()"
   ]
  },
  {
   "cell_type": "code",
   "execution_count": 1,
   "metadata": {},
   "outputs": [
    {
     "name": "stdout",
     "output_type": "stream",
     "text": [
      "<arcpy.metadata.Metadata object at 0x0000020136790808>\n"
     ]
    }
   ],
   "source": [
    "import arcpy\n",
    "\n",
    "# specify the path to the Sentinel-1 GRD product XML metafile\n",
    "xml_path = r\"D:\\c\\jaipur_2\\L1C_T43REK_A028016_20220718T054109\\S2B_MSIL1C_20220718T052649_N0400_R105_T43REK_20220718T072828.SAFE\\manifest.safe\"\n",
    "\n",
    "# use the arcpy module to parse the metadata\n",
    "metadata = arcpy.metadata.Metadata(xml_path)\n",
    "\n",
    "# print the metadata\n",
    "print(metadata)"
   ]
  },
  {
   "cell_type": "code",
   "execution_count": null,
   "metadata": {},
   "outputs": [],
   "source": [
    "import arcpy\n",
    "\n",
    "# Set the workspace environment\n",
    "#arcpy.env.workspace = \"path/to/workspace\"\n",
    "\n",
    "# Set the input and output raster paths\n",
    "input_raster = \"D:\\c\\jaipur_2\\L1C_T43REK_A028016_20220718T054109\\S2B_MSIL1C_20220718T052649_N0400_R105_T43REK_20220718T072828.SAFE\\input_raster.tif\"\n",
    "output_raster = \"D:\\c\\jaipur_2\\L1C_T43REK_A028016_20220718T054109\\S2B_MSIL1C_20220718T052649_N0400_R105_T43REK_20220718T072828.SAFE\\output_raster.tif\"\n",
    "\n",
    "# Set the threshold value for water classification\n",
    "water_threshold = 0.5\n",
    "\n",
    "# Create a raster object from the input raster\n",
    "raster = arcpy.Raster(input_raster)\n",
    "\n",
    "# Convert the raster to a numpy array\n",
    "array = arcpy.RasterToNumPyArray(raster)\n",
    "\n",
    "# Apply the threshold to classify water and land\n",
    "water_mask = array < water_threshold\n",
    "land_mask = array >= water_threshold\n",
    "\n",
    "# Convert the masks to binary rasters\n",
    "water_raster = arcpy.NumPyArrayToRaster(water_mask, arcpy.Point(raster.extent.XMin, raster.extent.YMin), raster.meanCellWidth, raster.meanCellHeight)\n",
    "land_raster = arcpy.NumPyArrayToRaster(land_mask, arcpy.Point(raster.extent.XMin, raster.extent.YMin), raster.meanCellWidth, raster.meanCellHeight)\n",
    "\n",
    "# Save the water and land rasters to disk\n",
    "water_raster.save(\"D:\\c\\jaipur_2\\L1C_T43REK_A028016_20220718T054109\\S2B_MSIL1C_20220718T052649_N0400_R105_T43REK_20220718T072828.SAFE\\water_raster.tif\")\n",
    "land_raster.save(\"D:\\c\\jaipur_2\\L1C_T43REK_A028016_20220718T054109\\S2B_MSIL1C_20220718T052649_N0400_R105_T43REK_20220718T072828.SAFE\\land_raster.tif\")\n",
    "\n",
    "# Mosaic the water and land rasters into a single output raster\n",
    "arcpy.MosaicToNewRaster_management(inputs=[\"water_raster.tif\", \"land_raster.tif\"], output_location=\"path/to\", raster_dataset_name_with_extension=output_raster, number_of_bands=1)\n"
   ]
  }
 ],
 "metadata": {
  "kernelspec": {
   "display_name": "Python 3",
   "language": "python",
   "name": "python3"
  },
  "language_info": {
   "codemirror_mode": {
    "name": "ipython",
    "version": 3
   },
   "file_extension": ".py",
   "mimetype": "text/x-python",
   "name": "python",
   "nbconvert_exporter": "python",
   "pygments_lexer": "ipython3",
   "version": "3.7.11"
  }
 },
 "nbformat": 4,
 "nbformat_minor": 2
}
