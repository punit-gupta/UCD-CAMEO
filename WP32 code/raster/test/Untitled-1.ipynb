{
 "cells": [
  {
   "cell_type": "code",
   "execution_count": 2,
   "metadata": {},
   "outputs": [],
   "source": [
    "import arcgis\n",
    "from arcgis.gis import GIS\n",
    "from arcgis.raster.analytics import copy_raster, create_image_collection, list_datastore_content\n",
    "# Log into ArcGIS Online or ArcGIS Enterprise, ensuring that you have the required privileges as mentioned above.\n",
    "gis = GIS()"
   ]
  },
  {
   "cell_type": "code",
   "execution_count": 1,
   "metadata": {},
   "outputs": [
    {
     "name": "stdout",
     "output_type": "stream",
     "text": [
      "<arcpy.metadata.Metadata object at 0x0000020136790808>\n"
     ]
    }
   ],
   "source": [
    "import arcpy\n",
    "\n",
    "# specify the path to the Sentinel-1 GRD product XML metafile\n",
    "xml_path = r\"D:\\c\\jaipur_2\\L1C_T43REK_A028016_20220718T054109\\S2B_MSIL1C_20220718T052649_N0400_R105_T43REK_20220718T072828.SAFE\\manifest.safe\"\n",
    "\n",
    "# use the arcpy module to parse the metadata\n",
    "metadata = arcpy.metadata.Metadata(xml_path)\n",
    "\n",
    "# print the metadata\n",
    "print(metadata)"
   ]
  },
  {
   "cell_type": "code",
   "execution_count": null,
   "metadata": {},
   "outputs": [],
   "source": [
    "#import required libraries\n",
    "import rasterio\n",
    "from rasterio import plot\n",
    "import matplotlib.pyplot as plt\n",
    "%matplotlib inline\n",
    "#import bands as separate 1 band raster\n",
    "imagePath = '../Sentinel2/GRANULE/L1C_T11SKB_A007675_20180825T184430/IMG_DATA/'\n",
    "band2 = rasterio.open(imagePath+'T11SKB_20180825T183909_B02.jp2', driver='JP2OpenJPEG') #blue\n",
    "band3 = rasterio.open(imagePath+'T11SKB_20180825T183909_B03.jp2', driver='JP2OpenJPEG') #green\n",
    "band4 = rasterio.open(imagePath+'T11SKB_20180825T183909_B04.jp2', driver='JP2OpenJPEG') #red\n",
    "band8 = rasterio.open(imagePath+'T11SKB_20180825T183909_B08.jp2', driver='JP2OpenJPEG') #nir\n",
    "#number of raster bands\n",
    "band4.count\n",
    "#number of raster columns\n",
    "band4.width\n",
    "#number of raster rows\n",
    "band4.height\n",
    "#plot band \n",
    "plot.show(band4)\n",
    "#type of raster byte\n",
    "band4.dtypes[0]\n",
    "#raster sytem of reference\n",
    "band4.crs\n",
    "#raster transform parameters\n",
    "band4.transform\n",
    "#raster values as matrix array\n",
    "band4.read(1)\n",
    "#multiple band representation\n",
    "fig, (ax1, ax2, ax3) = plt.subplots(1, 3, figsize=(12, 4))\n",
    "plot.show(band2, ax=ax1, cmap='Blues')\n",
    "plot.show(band3, ax=ax2, cmap='Greens')\n",
    "plot.show(band4, ax=ax3, cmap='Reds')\n",
    "fig.tight_layout()\n",
    "#export true color image\n",
    "trueColor = rasterio.open('../Output/SentinelTrueColor2.tiff','w',driver='Gtiff',\n",
    "                         width=band4.width, height=band4.height,\n",
    "                         count=3,\n",
    "                         crs=band4.crs,\n",
    "                         transform=band4.transform,\n",
    "                         dtype=band4.dtypes[0]\n",
    "                         )\n",
    "trueColor.write(band2.read(1),3) #blue\n",
    "trueColor.write(band3.read(1),2) #green\n",
    "trueColor.write(band4.read(1),1) #red\n",
    "trueColor.close()\n",
    "src = rasterio.open(r\"../Output/SentinelTrueColor2.tiff\", count=3)\n",
    "plot.show(src)\n",
    "#export false color image\n",
    "falseColor = rasterio.open('../Output/SentinelFalseColor.tiff', 'w', driver='Gtiff',\n",
    "                          width=band2.width, height=band2.height,\n",
    "                          count=3,\n",
    "                          crs=band2.crs,\n",
    "                          transform=band2.transform,\n",
    "                          dtype='uint16'                   \n",
    "                         )\n",
    "falseColor.write(band3.read(1),3) #Blue\n",
    "falseColor.write(band4.read(1),2) #Green\n",
    "falseColor.write(band8.read(1),1) #Red\n",
    "falseColor.close()\n",
    "#generate histogram\n",
    "trueColor = rasterio.open('../Output/SentinelTrueColor2.tiff')\n",
    "plot.show_hist(trueColor, bins=50, lw=0.0, stacked=False, alpha=0.3, histtype='stepfilled', title=\"Histogram\")"
   ]
  }
 ],
 "metadata": {
  "kernelspec": {
   "display_name": "Python 3",
   "language": "python",
   "name": "python3"
  },
  "language_info": {
   "codemirror_mode": {
    "name": "ipython",
    "version": 3
   },
   "file_extension": ".py",
   "mimetype": "text/x-python",
   "name": "python",
   "nbconvert_exporter": "python",
   "pygments_lexer": "ipython3",
   "version": "3.7.11"
  }
 },
 "nbformat": 4,
 "nbformat_minor": 2
}
