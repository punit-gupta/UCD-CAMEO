{
 "cells": [
  {
   "cell_type": "code",
   "execution_count": 1,
   "metadata": {},
   "outputs": [
    {
     "name": "stdout",
     "output_type": "stream",
     "text": [
      "Defaulting to user installation because normal site-packages is not writeable\n",
      "Collecting opencv-python\n",
      "  Downloading opencv_python-4.7.0.72-cp37-abi3-win_amd64.whl (38.2 MB)\n",
      "     --------------------------------------- 38.2/38.2 MB 13.1 MB/s eta 0:00:00\n",
      "Requirement already satisfied: numpy>=1.21.2 in c:\\programdata\\anaconda3\\lib\\site-packages (from opencv-python) (1.23.5)\n",
      "Installing collected packages: opencv-python\n",
      "Successfully installed opencv-python-4.7.0.72\n",
      "Note: you may need to restart the kernel to use updated packages.\n"
     ]
    }
   ],
   "source": [
    "pip install opencv-python"
   ]
  },
  {
   "cell_type": "code",
   "execution_count": 1,
   "metadata": {},
   "outputs": [],
   "source": [
    "\n",
    "import cv2\n",
    "img1 = cv2.imread('data/L1C_T43REK_A029303_20221016T053343.tif')\n",
    "img2 = cv2.imread('data/L1C_T43REK_A038140_20221011T053331.tif')\n",
    "psnr = cv2.PSNR(img1, img2)\n",
    "psnr1 = cv2.PSNR(img2, img1)"
   ]
  },
  {
   "cell_type": "code",
   "execution_count": 2,
   "metadata": {},
   "outputs": [
    {
     "data": {
      "text/plain": [
       "array([[[  0,   0,   0],\n",
       "        [  0,   0,   0],\n",
       "        [  0,   0,   0],\n",
       "        ...,\n",
       "        [ 88, 134, 121],\n",
       "        [ 89, 135, 122],\n",
       "        [ 85, 134, 118]],\n",
       "\n",
       "       [[  0,   0,   0],\n",
       "        [  0,   0,   0],\n",
       "        [  0,   0,   0],\n",
       "        ...,\n",
       "        [ 87, 133, 120],\n",
       "        [ 80, 129, 115],\n",
       "        [ 78, 127, 111]],\n",
       "\n",
       "       [[  0,   0,   0],\n",
       "        [  0,   0,   0],\n",
       "        [  0,   0,   0],\n",
       "        ...,\n",
       "        [ 86, 132, 119],\n",
       "        [ 81, 130, 116],\n",
       "        [ 79, 128, 112]],\n",
       "\n",
       "       ...,\n",
       "\n",
       "       [[103, 139, 149],\n",
       "        [102, 138, 148],\n",
       "        [100, 135, 148],\n",
       "        ...,\n",
       "        [115, 137, 148],\n",
       "        [109, 136, 146],\n",
       "        [107, 136, 143]],\n",
       "\n",
       "       [[103, 130, 150],\n",
       "        [102, 132, 151],\n",
       "        [101, 131, 150],\n",
       "        ...,\n",
       "        [111, 138, 148],\n",
       "        [106, 139, 142],\n",
       "        [102, 138, 138]],\n",
       "\n",
       "       [[105, 129, 153],\n",
       "        [106, 130, 154],\n",
       "        [103, 129, 153],\n",
       "        ...,\n",
       "        [106, 137, 146],\n",
       "        [102, 138, 138],\n",
       "        [ 98, 138, 133]]], dtype=uint8)"
      ]
     },
     "execution_count": 2,
     "metadata": {},
     "output_type": "execute_result"
    }
   ],
   "source": [
    "img1"
   ]
  },
  {
   "cell_type": "code",
   "execution_count": 2,
   "metadata": {},
   "outputs": [
    {
     "name": "stdout",
     "output_type": "stream",
     "text": [
      "Noise:16.766206584579116%\n"
     ]
    }
   ],
   "source": [
    "#psnr\n",
    "print(\"Noise:\"+str(psnr)+\"%\")"
   ]
  },
  {
   "cell_type": "code",
   "execution_count": 4,
   "metadata": {},
   "outputs": [
    {
     "name": "stdout",
     "output_type": "stream",
     "text": [
      "Noise:16.766206584579116%\n"
     ]
    }
   ],
   "source": [
    "#psnr\n",
    "print(\"Noise:\"+str(psnr1)+\"%\")"
   ]
  },
  {
   "cell_type": "code",
   "execution_count": 5,
   "metadata": {},
   "outputs": [
    {
     "name": "stdout",
     "output_type": "stream",
     "text": [
      "Defaulting to user installation because normal site-packages is not writeable\n",
      "Requirement already satisfied: scikit-image in c:\\programdata\\anaconda3\\lib\\site-packages (0.19.3)\n",
      "Requirement already satisfied: packaging>=20.0 in c:\\programdata\\anaconda3\\lib\\site-packages (from scikit-image) (22.0)\n",
      "Requirement already satisfied: scipy>=1.4.1 in c:\\programdata\\anaconda3\\lib\\site-packages (from scikit-image) (1.10.0)\n",
      "Requirement already satisfied: PyWavelets>=1.1.1 in c:\\programdata\\anaconda3\\lib\\site-packages (from scikit-image) (1.4.1)\n",
      "Requirement already satisfied: tifffile>=2019.7.26 in c:\\programdata\\anaconda3\\lib\\site-packages (from scikit-image) (2021.7.2)\n",
      "Requirement already satisfied: pillow!=7.1.0,!=7.1.1,!=8.3.0,>=6.1.0 in c:\\programdata\\anaconda3\\lib\\site-packages (from scikit-image) (9.4.0)\n",
      "Requirement already satisfied: numpy>=1.17.0 in c:\\programdata\\anaconda3\\lib\\site-packages (from scikit-image) (1.23.5)\n",
      "Requirement already satisfied: imageio>=2.4.1 in c:\\programdata\\anaconda3\\lib\\site-packages (from scikit-image) (2.26.0)\n",
      "Requirement already satisfied: networkx>=2.2 in c:\\programdata\\anaconda3\\lib\\site-packages (from scikit-image) (2.8.4)\n",
      "Note: you may need to restart the kernel to use updated packages.\n"
     ]
    }
   ],
   "source": [
    "pip install scikit-image"
   ]
  },
  {
   "cell_type": "code",
   "execution_count": 6,
   "metadata": {},
   "outputs": [
    {
     "name": "stdout",
     "output_type": "stream",
     "text": [
      "0.5213900219811114\n"
     ]
    }
   ],
   "source": [
    "from skimage.metrics import structural_similarity as ssim\n",
    "\n",
    " # Convert the images to grayscale\n",
    "gray1 = cv2.cvtColor(img1, cv2.COLOR_BGR2GRAY)\n",
    "gray2 = cv2.cvtColor(img2, cv2.COLOR_BGR2GRAY)\n",
    "\n",
    "s=ssim(gray1, gray2)\n",
    "print(s)"
   ]
  },
  {
   "cell_type": "code",
   "execution_count": 11,
   "metadata": {},
   "outputs": [
    {
     "name": "stdout",
     "output_type": "stream",
     "text": [
      "SSIM:\n",
      "0.5213900219811114\n",
      "MSE:\n",
      "1180.4726858238691\n",
      "NMSE\n",
      "0.26087283161702096\n"
     ]
    }
   ],
   "source": [
    "from skimage.metrics import structural_similarity as ssim\n",
    "\n",
    " # Convert the images to grayscale\n",
    "gray1 = cv2.cvtColor(img1, cv2.COLOR_BGR2GRAY)\n",
    "gray2 = cv2.cvtColor(img2, cv2.COLOR_BGR2GRAY)\n",
    "\n",
    "s=ssim(gray1, gray2)\n",
    "print(\"SSIM:\")\n",
    "print(s)\n",
    "\n",
    "from skimage.metrics import mean_squared_error as mse\n",
    "s=mse(gray1, gray2)\n",
    "print(\"MSE:\")\n",
    "print(s)\n",
    "\n",
    "\n",
    "\n",
    "from skimage.metrics import normalized_root_mse as nmse\n",
    "s=nmse(gray1, gray2)\n",
    "print(\"NMSE\")\n",
    "print(s)"
   ]
  },
  {
   "cell_type": "code",
   "execution_count": 12,
   "metadata": {},
   "outputs": [
    {
     "name": "stdout",
     "output_type": "stream",
     "text": [
      "RMSE:\n",
      "34.35800759392007\n"
     ]
    }
   ],
   "source": [
    "\n",
    "\n",
    "\n",
    "from skimage.metrics import mean_squared_error as mse\n",
    "import math\n",
    "s=mse(gray2, gray1)\n",
    "RMSE = math.sqrt(s)\n",
    "print(\"RMSE:\")\n",
    "print(RMSE)"
   ]
  },
  {
   "cell_type": "code",
   "execution_count": 14,
   "metadata": {},
   "outputs": [
    {
     "name": "stdout",
     "output_type": "stream",
     "text": [
      "Collecting piqNote: you may need to restart the kernel to use updated packages.\n",
      "\n",
      "  Downloading piq-0.7.0-py3-none-any.whl (139 kB)\n",
      "Requirement already satisfied: torchvision!=0.9.*,>=0.6.1 in c:\\users\\punit\\anaconda3\\lib\\site-packages (from piq) (0.14.0)\n",
      "Requirement already satisfied: torch==1.13.0 in c:\\users\\punit\\anaconda3\\lib\\site-packages (from torchvision!=0.9.*,>=0.6.1->piq) (1.13.0)\n",
      "Requirement already satisfied: pillow!=8.3.*,>=5.3.0 in c:\\users\\punit\\anaconda3\\lib\\site-packages (from torchvision!=0.9.*,>=0.6.1->piq) (9.0.1)\n",
      "Requirement already satisfied: typing-extensions in c:\\users\\punit\\anaconda3\\lib\\site-packages (from torchvision!=0.9.*,>=0.6.1->piq) (4.1.1)\n",
      "Requirement already satisfied: numpy in c:\\users\\punit\\anaconda3\\lib\\site-packages (from torchvision!=0.9.*,>=0.6.1->piq) (1.21.5)\n",
      "Requirement already satisfied: requests in c:\\users\\punit\\anaconda3\\lib\\site-packages (from torchvision!=0.9.*,>=0.6.1->piq) (2.27.1)\n",
      "Requirement already satisfied: certifi>=2017.4.17 in c:\\users\\punit\\anaconda3\\lib\\site-packages (from requests->torchvision!=0.9.*,>=0.6.1->piq) (2022.9.24)\n",
      "Requirement already satisfied: idna<4,>=2.5 in c:\\users\\punit\\anaconda3\\lib\\site-packages (from requests->torchvision!=0.9.*,>=0.6.1->piq) (3.3)\n",
      "Requirement already satisfied: charset-normalizer~=2.0.0 in c:\\users\\punit\\anaconda3\\lib\\site-packages (from requests->torchvision!=0.9.*,>=0.6.1->piq) (2.0.4)\n",
      "Requirement already satisfied: urllib3<1.27,>=1.21.1 in c:\\users\\punit\\anaconda3\\lib\\site-packages (from requests->torchvision!=0.9.*,>=0.6.1->piq) (1.26.9)\n",
      "Installing collected packages: piq\n",
      "Successfully installed piq-0.7.0\n"
     ]
    }
   ],
   "source": [
    "pip install piq"
   ]
  },
  {
   "cell_type": "code",
   "execution_count": 15,
   "metadata": {},
   "outputs": [],
   "source": [
    "import torch\n",
    "from piq import FID\n",
    "from piq.ms_ssim import multi_scale_ssim\n"
   ]
  },
  {
   "cell_type": "code",
   "execution_count": 16,
   "metadata": {},
   "outputs": [
    {
     "ename": "TypeError",
     "evalue": "multi_scale_ssim() missing 2 required positional arguments: 'x' and 'y'",
     "output_type": "error",
     "traceback": [
      "\u001b[1;31m---------------------------------------------------------------------------\u001b[0m",
      "\u001b[1;31mTypeError\u001b[0m                                 Traceback (most recent call last)",
      "\u001b[1;32md:\\OneDrive - Manipal University Jaipur\\Punit\\UCD\\WP3 code\\psnr\\psnr.ipynb Cell 9\u001b[0m in \u001b[0;36m<cell line: 1>\u001b[1;34m()\u001b[0m\n\u001b[1;32m----> <a href='vscode-notebook-cell:/d%3A/OneDrive%20-%20Manipal%20University%20Jaipur/Punit/UCD/WP3%20code/psnr/psnr.ipynb#X11sZmlsZQ%3D%3D?line=0'>1</a>\u001b[0m metriz\u001b[39m=\u001b[39mmulti_scale_ssim()\n\u001b[0;32m      <a href='vscode-notebook-cell:/d%3A/OneDrive%20-%20Manipal%20University%20Jaipur/Punit/UCD/WP3%20code/psnr/psnr.ipynb#X11sZmlsZQ%3D%3D?line=1'>2</a>\u001b[0m metriz(gray1, gray2)\n",
      "\u001b[1;31mTypeError\u001b[0m: multi_scale_ssim() missing 2 required positional arguments: 'x' and 'y'"
     ]
    }
   ],
   "source": [
    "metriz=multi_scale_ssim()\n",
    "metriz(gray1, gray2)"
   ]
  },
  {
   "cell_type": "code",
   "execution_count": null,
   "metadata": {},
   "outputs": [],
   "source": []
  }
 ],
 "metadata": {
  "kernelspec": {
   "display_name": "base",
   "language": "python",
   "name": "python3"
  },
  "language_info": {
   "codemirror_mode": {
    "name": "ipython",
    "version": 3
   },
   "file_extension": ".py",
   "mimetype": "text/x-python",
   "name": "python",
   "nbconvert_exporter": "python",
   "pygments_lexer": "ipython3",
   "version": "3.10.11"
  },
  "orig_nbformat": 4
 },
 "nbformat": 4,
 "nbformat_minor": 2
}
