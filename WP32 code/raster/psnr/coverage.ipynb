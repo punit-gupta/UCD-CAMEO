{
 "cells": [
  {
   "cell_type": "code",
   "execution_count": null,
   "metadata": {},
   "outputs": [],
   "source": [
    "import cv2\n",
    "import numpy as np\n",
    "\n",
    "img = cv2.imread('imp.jpg')\n",
    "img1 = cv2.imread('data/L1C_T43REK_A029303_20221016T053343.tif')\n",
    "\n",
    "pixel = np.argwhere(img == 255)"
   ]
  }
 ],
 "metadata": {
  "language_info": {
   "name": "python"
  },
  "orig_nbformat": 4
 },
 "nbformat": 4,
 "nbformat_minor": 2
}
