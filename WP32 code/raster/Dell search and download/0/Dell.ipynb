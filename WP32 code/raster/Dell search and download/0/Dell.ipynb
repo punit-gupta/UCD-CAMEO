{
 "cells": [
  {
   "cell_type": "code",
   "execution_count": null,
   "metadata": {},
   "outputs": [],
   "source": [
    "pip install urllib3"
   ]
  },
  {
   "cell_type": "code",
   "execution_count": null,
   "metadata": {},
   "outputs": [],
   "source": [
    "pip install python-certifi-win32"
   ]
  },
  {
   "cell_type": "code",
   "execution_count": 16,
   "metadata": {},
   "outputs": [],
   "source": [
    "from flask import Flask\n",
    "from flask import jsonify,request\n",
    "import earthpy as et\n",
    "import earthpy.spatial as es\n",
    "import earthpy.plot as ep\n",
    "import numpy as np\n",
    "import rasterio as rio\n",
    "from glob import glob\n",
    "import matplotlib.pyplot as plt\n",
    "import requests\n",
    "import urllib3\n",
    "import json"
   ]
  },
  {
   "cell_type": "code",
   "execution_count": 17,
   "metadata": {},
   "outputs": [],
   "source": [
    "def metadata(metadataid):\n",
    "    urllib3.disable_warnings()\n",
    "    from flask import jsonify\n",
    "    url = \"https://10.11.2.101:31010/cameo/metadata/\"+metadataid\n",
    "    data={\n",
    "    \"username\": \"ucd-wp3-user\",\n",
    "    \"password\": \"U(dWp3u$3r24\"\n",
    "    }\n",
    "    response = requests.get(url=url,verify=False, json=data)\n",
    "    if response.status_code ==200:\n",
    "        print(response.json())\n",
    "    else:\n",
    "        print(response.status_code)\n",
    "    \n",
    "    jsonResponse = json.dumps(response.json())\n",
    "    return jsonResponse\n",
    "\n",
    "def data(dataid):\n",
    "    urllib3.disable_warnings()\n",
    "    from flask import jsonify\n",
    "    url = \"https://10.11.2.101:31010/cameo/data/\"+dataid\n",
    "    data={\n",
    "    \"username\": \"ucd-wp3-user\",\n",
    "    \"password\": \"U(dWp3u$3r24\"\n",
    "    }\n",
    "    response = requests.get(url=url,verify=False, json=data)\n",
    "    if response.status_code ==200:\n",
    "        print(response.json())\n",
    "    else:\n",
    "        print(response.status_code)\n",
    "    \n",
    "    jsonResponse = json.dumps(response.json())\n",
    "    return jsonResponse\n",
    "\n",
    "def search(data):\n",
    "    urllib3.disable_warnings()\n",
    "    from flask import jsonify\n",
    "    url = \"https://10.11.2.101:31010/cameo/search\"\n",
    "    \n",
    "    response = requests.get(url=url,verify=False, json=data)\n",
    "    if response.status_code ==200:\n",
    "        print(response.json())\n",
    "    else:\n",
    "        print(response.status_code)\n",
    "    \n",
    "    jsonResponse = json.dumps(response.json())\n",
    "    return jsonResponse\n"
   ]
  },
  {
   "cell_type": "code",
   "execution_count": 18,
   "metadata": {},
   "outputs": [
    {
     "name": "stdout",
     "output_type": "stream",
     "text": [
      "{'box': 'POLYGON ((-6.066376 52.314038, -6.129791 51.328067, -4.557892 51.278925, -4.460022 52.263137, -6.066376 52.314038))', 'cloud_cover': '0.223530104280499', 'constellation': 'SENTINEL-2', 'created': '2023-01-02T11:33:59.024Z', 'geometry': {'coordinates': [[[-7.515198, 52.837653], [-7.535034, 52.253457], [-5.928314, 52.222566], [-5.858215, 53.208201], [-7.342163, 53.237104], [-7.353973, 53.210434], [-7.417541, 53.064935], [-7.480286, 52.91931], [-7.515198, 52.837653]]], 'type': 'Polygon'}, 'id': 'urn:eo:MetadataId:ee9e1f49-a4d8-4cf9-8f58-4bcea6daf608', 'instruments': 'MSI', 'metadata_id': 'ee9e1f49-a4d8-4cf9-8f58-4bcea6daf608', 'processing_level': 'LEVEL1C', 'published': '2023-01-02T14:32:15.289Z', 'snow_cover': '0', 'thumbnail': 'https://catalogue.dataspace.copernicus.eu/get-object?path=/Sentinel-2/MSI/L1C/2023/01/02/S2B_MSIL1C_20230102T113359_N0509_R080_T29UPU_20230102T121121.SAFE/S2B_MSIL1C_20230102T113359_N0509_R080_T29UPU_20230102T121121-ql.jpg'}\n"
     ]
    },
    {
     "data": {
      "text/plain": [
       "'{\"box\": \"POLYGON ((-6.066376 52.314038, -6.129791 51.328067, -4.557892 51.278925, -4.460022 52.263137, -6.066376 52.314038))\", \"cloud_cover\": \"0.223530104280499\", \"constellation\": \"SENTINEL-2\", \"created\": \"2023-01-02T11:33:59.024Z\", \"geometry\": {\"coordinates\": [[[-7.515198, 52.837653], [-7.535034, 52.253457], [-5.928314, 52.222566], [-5.858215, 53.208201], [-7.342163, 53.237104], [-7.353973, 53.210434], [-7.417541, 53.064935], [-7.480286, 52.91931], [-7.515198, 52.837653]]], \"type\": \"Polygon\"}, \"id\": \"urn:eo:MetadataId:ee9e1f49-a4d8-4cf9-8f58-4bcea6daf608\", \"instruments\": \"MSI\", \"metadata_id\": \"ee9e1f49-a4d8-4cf9-8f58-4bcea6daf608\", \"processing_level\": \"LEVEL1C\", \"published\": \"2023-01-02T14:32:15.289Z\", \"snow_cover\": \"0\", \"thumbnail\": \"https://catalogue.dataspace.copernicus.eu/get-object?path=/Sentinel-2/MSI/L1C/2023/01/02/S2B_MSIL1C_20230102T113359_N0509_R080_T29UPU_20230102T121121.SAFE/S2B_MSIL1C_20230102T113359_N0509_R080_T29UPU_20230102T121121-ql.jpg\"}'"
      ]
     },
     "execution_count": 18,
     "metadata": {},
     "output_type": "execute_result"
    }
   ],
   "source": [
    "\n",
    "params = {\n",
    "    \"constellation\":\"SENTINEL-2\",\n",
    "    \"start_datetime\":\"2023-01-02T00:00:00Z\",\n",
    "    \"end_datetime\": \"2023-02-01T23:59:00Z\",\n",
    "    \"username\": \"ucd-wp3-user\",\n",
    "    \"password\": \"U(dWp3u$3r24\",\n",
    "    \"online_search\": \"False\",\n",
    "    \"limit\": 1,\n",
    "    \"eo:cloud_cover\": 10,\n",
    "    \"processing:level\": \"LEVEL1\",\n",
    "    \"geometry\": {\n",
    "        \"coordinates\": [\n",
    "            [\n",
    "                [\n",
    "                    -6.066376,\n",
    "                    52.314038\n",
    "                ],\n",
    "                [\n",
    "                    -6.129791,\n",
    "                    51.328067\n",
    "                ],\n",
    "                [\n",
    "                    -4.557892,\n",
    "                    51.278925\n",
    "                ],\n",
    "                [\n",
    "                    -4.460022,\n",
    "                    52.263137\n",
    "                ],\n",
    "                [\n",
    "                    -6.066376,\n",
    "                    52.314038\n",
    "                ]\n",
    "            ]\n",
    "        ],\n",
    "        \"type\": \"Polygon\"\n",
    "    }\n",
    "}\n",
    "\n",
    "search(params)"
   ]
  },
  {
   "cell_type": "code",
   "execution_count": 19,
   "metadata": {},
   "outputs": [
    {
     "name": "stdout",
     "output_type": "stream",
     "text": [
      "{'cloud_cover': '85.489113692186', 'constellation': 'SENTINEL-2', 'created': '2023-05-20T11:43:51.024Z', 'data_id': 'a3a7fbc1-263f-4fb5-b392-9b0a933a4876', 'geometry': {'coordinates': [[[-11.044373, 50.44327], [-10.270691, 50.456861], [-10.297913, 51.443998], [-10.640747, 51.437891], [-10.651489, 51.411967], [-10.711578, 51.266127], [-10.771271, 51.120294], [-10.830597, 50.974481], [-10.889557, 50.828699], [-10.948334, 50.682883], [-11.006897, 50.536978], [-11.044373, 50.44327]]], 'type': 'Polygon'}, 'instore': 'True', 'instruments': 'MSI', 'metadata_expiration_date': '2025-10-16 07:54:06.283171', 'metadata_id': '6585b136-27f1-4ff0-9764-fbd45cf8e3e7', 'metadata_ingestion_date': '2023-10-17 07:54:06.283169', 'orbit_direction': 'None', 'processing_level': 'LEVEL1C', 'product_id': 'f01c43d2-8b5d-427e-8962-20c498842bf3', 'product_type': 'S2MSI1C', 'published': '2023-05-20T17:28:06.323Z', 'quicklook': 'None', 'resolution': '0.0', 'sensor_mode': 'INS-NOBS', 'size': '264521591', 'snow_cover': '0', 'status': 'ONLINE', 'thumbnail': 'https://catalogue.dataspace.copernicus.eu/get-object?path=/Sentinel-2/MSI/L1C/2023/05/20/S2A_MSIL1C_20230520T114351_N0509_R123_T29ULS_20230520T151921.SAFE/S2A_MSIL1C_20230520T114351_N0509_R123_T29ULS_20230520T151921-ql.jpg', 'timeliness': 'None', 'title': 'S2A_MSIL1C_20230520T114351_N0509_R123_T29ULS_20230520T151921'}\n"
     ]
    }
   ],
   "source": [
    "\n",
    "#json1= metadata(\"3c02bfc1-133c-4275-af78-03840633a733\")\n",
    "json1= metadata(\"6585b136-27f1-4ff0-9764-fbd45cf8e3e7\")\n",
    "\n"
   ]
  },
  {
   "cell_type": "code",
   "execution_count": 20,
   "metadata": {},
   "outputs": [
    {
     "name": "stdout",
     "output_type": "stream",
     "text": [
      "a3a7fbc1-263f-4fb5-b392-9b0a933a4876\n"
     ]
    }
   ],
   "source": [
    "\n",
    "strj=str(json1)\n",
    "#print(strj)\n",
    "json_object = json.loads(strj)\n",
    "print(json_object[\"data_id\"])\n",
    "data_id=json_object[\"data_id\"]"
   ]
  },
  {
   "cell_type": "code",
   "execution_count": 21,
   "metadata": {},
   "outputs": [
    {
     "name": "stdout",
     "output_type": "stream",
     "text": [
      "{'data_id': 'a3a7fbc1-263f-4fb5-b392-9b0a933a4876', 'data_s3_link': 'http://10.11.1.100:80/repository/S2A_MSIL1C_20230520T114351_N0509_R123_T29ULS_20230520T151921', 'instore': 'True', 'metadata_id': 'urn:eo:MetadataId:6585b136-27f1-4ff0-9764-fbd45cf8e3e7'}\n"
     ]
    }
   ],
   "source": [
    "\n",
    "#json1= data(\"1e55f150-20fc-45e2-9b32-6df9ba6a92d4\")\n",
    "#json1= data(\"c14c3c05-fa4f-4b93-99eb-0c335d294442\")\n",
    "\n",
    "json1= data(data_id)"
   ]
  },
  {
   "cell_type": "code",
   "execution_count": 22,
   "metadata": {},
   "outputs": [
    {
     "name": "stdout",
     "output_type": "stream",
     "text": [
      "\n"
     ]
    },
    {
     "data": {
      "text/plain": [
       "'S2A_MSIL1C_20230520T114351_N0509_R123_T29ULS_20230520T151921'"
      ]
     },
     "execution_count": 22,
     "metadata": {},
     "output_type": "execute_result"
    }
   ],
   "source": [
    "json_object1 = json.loads(json1)\n",
    "\n",
    "strs=json_object1[\"data_s3_link\"]\n",
    "print()\n",
    "res = strs.split('y/')[1]\n",
    "res"
   ]
  },
  {
   "cell_type": "markdown",
   "metadata": {},
   "source": [
    "**download method 1**"
   ]
  },
  {
   "cell_type": "code",
   "execution_count": 29,
   "metadata": {},
   "outputs": [],
   "source": [
    "import boto3\n",
    "s3 = boto3.client('s3',\n",
    "                  endpoint_url=\"http://10.11.1.100:80\",\n",
    "                  use_ssl=False,\n",
    "                  aws_access_key_id='ucd-wp3-usr',\n",
    "                  aws_secret_access_key='U53r-uCdwp3',\n",
    "                  region_name='us-east-1')\n"
   ]
  },
  {
   "cell_type": "code",
   "execution_count": 30,
   "metadata": {},
   "outputs": [],
   "source": [
    "s3.download_file('dell','test.txt','test.txt')"
   ]
  },
  {
   "cell_type": "code",
   "execution_count": 31,
   "metadata": {},
   "outputs": [
    {
     "name": "stdout",
     "output_type": "stream",
     "text": [
      "S2A_MSIL1C_20230520T114351_N0509_R123_T29ULS_20230520T151921.zip\n"
     ]
    }
   ],
   "source": [
    "files=res+'.zip'\n",
    "print (files)\n",
    "s3.download_file('repository',files,files)"
   ]
  },
  {
   "cell_type": "markdown",
   "metadata": {},
   "source": [
    "**unzip**"
   ]
  },
  {
   "cell_type": "code",
   "execution_count": 32,
   "metadata": {},
   "outputs": [
    {
     "name": "stdout",
     "output_type": "stream",
     "text": [
      "\n"
     ]
    }
   ],
   "source": [
    "import  zipfile\n",
    "import os\n",
    "#files=\"S2A_MSIL1C_20230520T114351_N0509_R123_T29ULS_20230520T151921.zip\"\n",
    "zip_ref = zipfile.ZipFile(files, 'r')\n",
    "zip_ref.extractall(os.path.dirname(files))\n",
    "zip_ref.close()\n",
    "print(os.path.dirname(files))"
   ]
  },
  {
   "cell_type": "code",
   "execution_count": 33,
   "metadata": {},
   "outputs": [
    {
     "name": "stdout",
     "output_type": "stream",
     "text": [
      "c:\\Users\\punit\\Desktop\\test\\raster santenal\\Dell search and download\\S2A_MSIL1C_20230520T114351_N0509_R123_T29ULS_20230520T151921.zip\n"
     ]
    }
   ],
   "source": [
    "print(os.path.abspath(files))"
   ]
  },
  {
   "cell_type": "code",
   "execution_count": 34,
   "metadata": {},
   "outputs": [],
   "source": [
    "import earthpy as et\n",
    "import earthpy.spatial as es\n",
    "import earthpy.plot as ep\n",
    "import numpy as np\n",
    "import rasterio as rio\n",
    "from glob import glob\n",
    "\n",
    "def complete(path):\n",
    "    id= path\n",
    "    k=get_data(id)\n",
    "    b3=k[1]\n",
    "    b7=k[0]\n",
    "    print(b3.shape)\n",
    "    print(b7.shape)\n",
    "    ndvi1 = es.normalized_diff(b7, b3)\n",
    "    v1=np.array(ndvi1[0])\n",
    "    unique, frequency = np.unique(v1,return_counts = True)\n",
    "    no_data=100*(np.count_nonzero(np.isnan(v1))/len(v1))\n",
    "    data={\"no_data\":no_data}\n",
    "    print(ndvi1.shape)\n",
    "    return (data)\n",
    "    \n",
    "\n",
    "\n",
    "def get_data(id):\n",
    "    str2=id+\".SAFE\\GRANULE\\*\\IMG_DATA\\*B?*.jp2\"\n",
    "    S_sentinel_bands = glob(str2)\n",
    "    S_sentinel_bands.sort()\n",
    "    from rasterio.windows import Window\n",
    "    f=rio.open(S_sentinel_bands[3], 'r')\n",
    "    print(f.shape)\n",
    "    f1=rio.open(S_sentinel_bands[7], 'r')\n",
    "    print(f1.shape)\n",
    "    k=[]\n",
    "    k.append(f.read(1))\n",
    "    k.append(f1.read(1))\n",
    "    return k"
   ]
  },
  {
   "cell_type": "code",
   "execution_count": 35,
   "metadata": {},
   "outputs": [
    {
     "name": "stdout",
     "output_type": "stream",
     "text": [
      "(10980, 10980)\n",
      "(10980, 10980)\n",
      "(10980, 10980)\n",
      "(10980, 10980)\n"
     ]
    },
    {
     "name": "stderr",
     "output_type": "stream",
     "text": [
      "c:\\Users\\punit\\.conda\\envs\\streamlit\\lib\\site-packages\\earthpy\\spatial.py:105: RuntimeWarning: invalid value encountered in divide\n",
      "  n_diff = (b1 - b2) / (b1 + b2)\n"
     ]
    },
    {
     "name": "stdout",
     "output_type": "stream",
     "text": [
      "(10980, 10980)\n"
     ]
    },
    {
     "data": {
      "text/plain": [
       "{'no_data': 78.27868852459017}"
      ]
     },
     "execution_count": 35,
     "metadata": {},
     "output_type": "execute_result"
    }
   ],
   "source": [
    "#res=\"S2A_MSIL1C_20230520T114351_N0509_R123_T29ULS_20230520T151921\"\n",
    "complete(res)"
   ]
  },
  {
   "cell_type": "code",
   "execution_count": null,
   "metadata": {},
   "outputs": [],
   "source": []
  },
  {
   "cell_type": "code",
   "execution_count": null,
   "metadata": {},
   "outputs": [],
   "source": []
  }
 ],
 "metadata": {
  "kernelspec": {
   "display_name": "streamlit",
   "language": "python",
   "name": "python3"
  },
  "language_info": {
   "codemirror_mode": {
    "name": "ipython",
    "version": 3
   },
   "file_extension": ".py",
   "mimetype": "text/x-python",
   "name": "python",
   "nbconvert_exporter": "python",
   "pygments_lexer": "ipython3",
   "version": "3.10.11"
  },
  "orig_nbformat": 4
 },
 "nbformat": 4,
 "nbformat_minor": 2
}
